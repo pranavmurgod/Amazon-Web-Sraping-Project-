{
  "nbformat": 4,
  "nbformat_minor": 0,
  "metadata": {
    "colab": {
      "provenance": []
    },
    "kernelspec": {
      "name": "python3",
      "display_name": "Python 3"
    },
    "language_info": {
      "name": "python"
    }
  },
  "cells": [
    {
      "cell_type": "code",
      "source": [
        "from bs4 import BeautifulSoup\n",
        "import pandas as pd\n",
        "\n",
        "# Read the HTML file\n",
        "with open('amazon.html', 'r', encoding='utf-8') as file:\n",
        "    html_content = file.read()\n",
        "\n",
        "# Parse the HTML content using BeautifulSoup\n",
        "soup = BeautifulSoup(html_content, 'html.parser')\n",
        "\n",
        "# Initialize lists to store the extracted data\n",
        "names = []\n",
        "prices = []\n",
        "reviews = []\n",
        "\n",
        "# Find all divs with the specified class\n",
        "divs = soup.find_all('div', class_=\"puis-card-container s-card-container s-overflow-hidden aok-relative puis-include-content-margin puis puis-v2fl5pkubaqu126k6zseo6li6q s-latency-cf-section puis-card-border\",\n",
        "                     attrs={\"data-cy\": \"asin-faceout-container\"})\n",
        "\n",
        "# Iterate over each div and extract the required details\n",
        "for div in divs:\n",
        "    # Extract the product name\n",
        "    try:\n",
        "        name = div.find('span', class_=\"a-size-medium a-color-base a-text-normal\").text.strip()\n",
        "    except AttributeError:\n",
        "        name = \"\"\n",
        "    names.append(name)\n",
        "\n",
        "    # Extract the product price\n",
        "    try:\n",
        "        price = div.find('span', class_=\"a-price-whole\").text.strip()\n",
        "    except AttributeError:\n",
        "        price = \"\"\n",
        "    prices.append(price)\n",
        "\n",
        "    # Extract the product reviews\n",
        "    try:\n",
        "        review = div.find('span', class_=\"a-icon-alt\").text.strip()\n",
        "    except AttributeError:\n",
        "        review = \"\"\n",
        "    reviews.append(review)\n",
        "\n",
        "# Create a DataFrame to hold the data\n",
        "df = pd.DataFrame({\n",
        "    'Name': names,\n",
        "    'Price': prices,\n",
        "    'Reviews': reviews\n",
        "})\n",
        "\n",
        "# Write the DataFrame to an Excel file\n",
        "df.to_excel('amazon_products.xlsx', index=False)\n",
        "\n",
        "print(\"Data has been successfully written to 'amazon_products.xlsx'.\")\n"
      ],
      "metadata": {
        "colab": {
          "base_uri": "https://localhost:8080/"
        },
        "id": "AdFu5sIDDpay",
        "outputId": "d3cc1c5b-9471-429d-cc69-69697aed3b89"
      },
      "execution_count": 2,
      "outputs": [
        {
          "output_type": "stream",
          "name": "stdout",
          "text": [
            "Data has been successfully written to 'amazon_products.xlsx'.\n"
          ]
        }
      ]
    }
  ]
}